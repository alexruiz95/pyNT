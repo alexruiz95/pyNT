{
 "metadata": {
  "name": "",
  "signature": "sha256:cb0ced71b0849d29a9ea9ee9a8025788cb2d51700744a96ad41fc1deabe13a8b"
 },
 "nbformat": 3,
 "nbformat_minor": 0,
 "worksheets": [
  {
   "cells": [
    {
     "cell_type": "code",
     "collapsed": false,
     "input": [
      "import numpy as np\n",
      "import sympy as sp\n",
      "from pyNT.ode import ODE"
     ],
     "language": "python",
     "metadata": {},
     "outputs": [],
     "prompt_number": 1
    },
    {
     "cell_type": "code",
     "collapsed": false,
     "input": [
      "x = sp.Symbol('x')\n",
      "\n",
      "tst_sys = ODE(\n",
      "    x = [x],\n",
      "    f = [x])"
     ],
     "language": "python",
     "metadata": {},
     "outputs": [],
     "prompt_number": 2
    },
    {
     "cell_type": "code",
     "collapsed": false,
     "input": [
      "npoints = 200\n",
      "Y, X = np.ogrid[-6:6:npoints*1j, -11:1:npoints*1j]\n",
      "Z = X + 1j*Y\n",
      "X0 = np.ones((1, npoints, npoints), dtype = np.complex128)"
     ],
     "language": "python",
     "metadata": {},
     "outputs": [],
     "prompt_number": 3
    },
    {
     "cell_type": "code",
     "collapsed": false,
     "input": [
      "traj0 = tst_sys.Euler(\n",
      "    h = Z,\n",
      "    nsteps = 1,\n",
      "    X0 = X0)"
     ],
     "language": "python",
     "metadata": {},
     "outputs": [],
     "prompt_number": 4
    },
    {
     "cell_type": "code",
     "collapsed": false,
     "input": [
      "traj1 = tst_sys.Heun(\n",
      "    h = Z,\n",
      "    nsteps = 1,\n",
      "    X0 = X0)"
     ],
     "language": "python",
     "metadata": {},
     "outputs": [],
     "prompt_number": 5
    },
    {
     "cell_type": "code",
     "collapsed": false,
     "input": [
      "traj2 = tst_sys.cRK(\n",
      "    h = Z,\n",
      "    nsteps = 1,\n",
      "    X0 = X0)"
     ],
     "language": "python",
     "metadata": {},
     "outputs": [],
     "prompt_number": 6
    },
    {
     "cell_type": "code",
     "collapsed": false,
     "input": [
      "traj3 = tst_sys.EE4_alt(\n",
      "    h = Z,\n",
      "    nsteps = 1,\n",
      "    X0 = X0)"
     ],
     "language": "python",
     "metadata": {},
     "outputs": [],
     "prompt_number": 7
    },
    {
     "cell_type": "code",
     "collapsed": false,
     "input": [
      "%matplotlib inline\n",
      "import matplotlib.pyplot as plt\n",
      "fig = plt.figure(figsize=(10,10))\n",
      "ax = fig.add_subplot(111)\n",
      "ax.contour(X.ravel(),\n",
      "           Y.ravel(),\n",
      "           np.abs(traj0[1, 0]),\n",
      "           levels = [1],\n",
      "           colors = 'red')\n",
      "ax.contour(X.ravel(),\n",
      "           Y.ravel(),\n",
      "           np.abs(traj1[1, 0]),\n",
      "           levels = [1],\n",
      "           colors = 'blue')\n",
      "ax.contour(X.ravel(),\n",
      "           Y.ravel(),\n",
      "           np.abs(traj2[1, 0]),\n",
      "           levels = [1],\n",
      "           colors = 'green')\n",
      "ax.contour(X.ravel(),\n",
      "           Y.ravel(),\n",
      "           np.abs(traj3[1, 0]),\n",
      "           levels = [1],\n",
      "           colors = 'orange')\n",
      "plt.show()"
     ],
     "language": "python",
     "metadata": {},
     "outputs": [
      {
       "metadata": {},
       "output_type": "display_data",
       "png": "[encoded data removed]",
       "text": [
        "<matplotlib.figure.Figure at 0x7f6f02440ad0>"
       ]
      }
     ],
     "prompt_number": 8
    },
    {
     "cell_type": "code",
     "collapsed": false,
     "input": [
      "evdt = tst_sys.get_evdt(\n",
      "    h0 = 4.,\n",
      "    solver = ['cRK', 'EE4'],\n",
      "    X0 = np.ones(1)*2.)"
     ],
     "language": "python",
     "metadata": {},
     "outputs": [
      {
       "ename": "TypeError",
       "evalue": "'NoneType' object has no attribute '__getitem__'",
       "output_type": "pyerr",
       "traceback": [
        "\u001b[1;31m---------------------------------------------------------------------------\u001b[0m\n\u001b[1;31mTypeError\u001b[0m                                 Traceback (most recent call last)",
        "\u001b[1;32m<ipython-input-9-8612c19ca448>\u001b[0m in \u001b[0;36m<module>\u001b[1;34m()\u001b[0m\n\u001b[0;32m      2\u001b[0m     \u001b[0mh0\u001b[0m \u001b[1;33m=\u001b[0m \u001b[1;36m4.\u001b[0m\u001b[1;33m,\u001b[0m\u001b[1;33m\u001b[0m\u001b[0m\n\u001b[0;32m      3\u001b[0m     \u001b[0msolver\u001b[0m \u001b[1;33m=\u001b[0m \u001b[1;33m[\u001b[0m\u001b[1;34m'cRK'\u001b[0m\u001b[1;33m,\u001b[0m \u001b[1;34m'EE4'\u001b[0m\u001b[1;33m]\u001b[0m\u001b[1;33m,\u001b[0m\u001b[1;33m\u001b[0m\u001b[0m\n\u001b[1;32m----> 4\u001b[1;33m     X0 = np.ones(1)*2.)\n\u001b[0m",
        "\u001b[1;32m/usr/local/lib/python2.7/dist-packages/pyNT-20141207-py2.7.egg/pyNT/ode.pyc\u001b[0m in \u001b[0;36mget_evdt\u001b[1;34m(self, h0, nsteps, X0, exp_range, solver, relative)\u001b[0m\n\u001b[0;32m    199\u001b[0m                 for n in exp_range]\n\u001b[0;32m    200\u001b[0m         dist = [np.average(np.abs(x0[p][-1] - x1[p][-1]), axis = 0)\n\u001b[1;32m--> 201\u001b[1;33m                 for p in range(len(x0))]\n\u001b[0m\u001b[0;32m    202\u001b[0m         \u001b[1;32mif\u001b[0m \u001b[0mrelative\u001b[0m\u001b[1;33m:\u001b[0m\u001b[1;33m\u001b[0m\u001b[0m\n\u001b[0;32m    203\u001b[0m             \u001b[1;32mfor\u001b[0m \u001b[0mp\u001b[0m \u001b[1;32min\u001b[0m \u001b[0mrange\u001b[0m\u001b[1;33m(\u001b[0m\u001b[0mlen\u001b[0m\u001b[1;33m(\u001b[0m\u001b[0mx0\u001b[0m\u001b[1;33m)\u001b[0m\u001b[1;33m)\u001b[0m\u001b[1;33m:\u001b[0m\u001b[1;33m\u001b[0m\u001b[0m\n",
        "\u001b[1;31mTypeError\u001b[0m: 'NoneType' object has no attribute '__getitem__'"
       ]
      }
     ],
     "prompt_number": 9
    },
    {
     "cell_type": "code",
     "collapsed": false,
     "input": [
      "fig = plt.figure(figsize = (10, 6))\n",
      "ax = fig.add_subplot(111)\n",
      "ax.plot(evdt[:, 0], evdt[:, 2])\n",
      "ax.plot(evdt[:, 0], evdt[:, 0]**4)\n",
      "ax.set_xscale('log')\n",
      "ax.set_yscale('log')"
     ],
     "language": "python",
     "metadata": {},
     "outputs": []
    },
    {
     "cell_type": "code",
     "collapsed": false,
     "input": [],
     "language": "python",
     "metadata": {},
     "outputs": []
    },
    {
     "cell_type": "code",
     "collapsed": false,
     "input": [],
     "language": "python",
     "metadata": {},
     "outputs": []
    }
   ],
   "metadata": {}
  }
 ]
}